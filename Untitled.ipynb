{
 "cells": [
  {
   "cell_type": "code",
   "execution_count": 3,
   "id": "8a37116a",
   "metadata": {},
   "outputs": [
    {
     "name": "stdout",
     "output_type": "stream",
     "text": [
      "       Name  Age\n",
      "0       Ali   32\n",
      "1      Bill   55\n",
      "2     David   20\n",
      "3      Hany   43\n",
      "4   Ibtisam   30\n"
     ]
    }
   ],
   "source": [
    "import pandas as pd\n",
    "import numpy as np\n",
    " \n",
    "name_age = {'Name' : ['Ali', 'Bill', 'David', 'Hany', ' Ibtisam'],\n",
    "'Age' : [32, 55, 20, 43, 30]}\n",
    "data_frame = pd.DataFrame(name_age, Index = [ho, hola, soy, Germán])\n",
    "print(data_frame)"
   ]
  }
 ],
 "metadata": {
  "kernelspec": {
   "display_name": "Python 3",
   "language": "python",
   "name": "python3"
  },
  "language_info": {
   "codemirror_mode": {
    "name": "ipython",
    "version": 3
   },
   "file_extension": ".py",
   "mimetype": "text/x-python",
   "name": "python",
   "nbconvert_exporter": "python",
   "pygments_lexer": "ipython3",
   "version": "3.8.8"
  }
 },
 "nbformat": 4,
 "nbformat_minor": 5
}
