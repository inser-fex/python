{
 "cells": [
  {
   "cell_type": "markdown",
   "id": "focused-howard",
   "metadata": {},
   "source": [
    "# Listas, tuplas y diccionarios\n",
    "\n",
    "## Listas\n",
    "\n",
    "Una **lista** es una variable que contiene varios datos, de manera ordenada.\n",
    "\n",
    "    colores = [\"rojo\", \"azul\", \"verde\", \"blanco\", \"naranja\", \"morado\", \"amarillo\"]\n",
    "\n",
    "Para acceder a un elemento dentro de la lista, se usa la siguiente notación:\n",
    "\n",
    "    print(colores[5])\n",
    "    \n",
    "El primer elemento de la lista es el número 0, de modo que en nuestra lista de 7 elementos, el último será el número 6, y si intentamos imprimir el elemento colores\\[7\\] tendremos un error.\n",
    "\n",
    "En las listas, podemos editar los contenidos según sea necesario:\n",
    "\n",
    "    colores[5] = \"negro\"\n",
    "\n",
    "### Ejercicio 1\n",
    "\n",
    "Crea una lista con los días de la semana."
   ]
  },
  {
   "cell_type": "code",
   "execution_count": 3,
   "id": "stunning-equivalent",
   "metadata": {},
   "outputs": [],
   "source": [
    "dias = [\"lunes\",                       ]"
   ]
  },
  {
   "cell_type": "markdown",
   "id": "insured-citizen",
   "metadata": {},
   "source": [
    "Una vez creada la lista, imprime el primer día de la semana:"
